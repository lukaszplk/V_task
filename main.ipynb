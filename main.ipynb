{
 "cells": [
  {
   "cell_type": "code",
   "execution_count": 1,
   "metadata": {},
   "outputs": [],
   "source": [
    "PATH = 'C:/Users/mrluk/Desktop/Verii/V_task/data/test_dataset_1.txt'"
   ]
  },
  {
   "cell_type": "markdown",
   "metadata": {},
   "source": [
    "Getting familiar with tha data"
   ]
  },
  {
   "cell_type": "code",
   "execution_count": 2,
   "metadata": {},
   "outputs": [],
   "source": [
    "# from IPython.display import clear_output\n",
    "# PATH = 'C:/Users/mrluk/Desktop/Verii/V_task/data/test_dataset_1.txt'\n",
    "# with open(PATH, 'r') as f:\n",
    "#     lines = f.readlines()\n",
    "#     counter = 1\n",
    "#     for line in lines:\n",
    "#         print(f\"Line: {counter}\")\n",
    "#         print(len(line.split('\\t')))\n",
    "#         print(line.split('\\t'))\n",
    "#         # print(line.split(' '))\n",
    "#         # print(len(line.split(' ')))\n",
    "#         # print(line.split('  '))\n",
    "#         # print(len(line.split('  ')))\n",
    "#         # print(line.split('\\t'))\n",
    "#         input()\n",
    "#         clear_output()\n",
    "#         counter+=1"
   ]
  },
  {
   "cell_type": "code",
   "execution_count": 3,
   "metadata": {},
   "outputs": [],
   "source": [
    "import pandas as pd\n",
    "from datetime import datetime"
   ]
  },
  {
   "cell_type": "code",
   "execution_count": 4,
   "metadata": {},
   "outputs": [],
   "source": [
    "data = pd.read_csv(PATH, sep=\"\\t\", skiprows=5, skipfooter=2, engine='python')"
   ]
  },
  {
   "cell_type": "code",
   "execution_count": 5,
   "metadata": {},
   "outputs": [
    {
     "data": {
      "text/plain": [
       "(48, 419)"
      ]
     },
     "execution_count": 5,
     "metadata": {},
     "output_type": "execute_result"
    }
   ],
   "source": [
    "data.shape"
   ]
  },
  {
   "cell_type": "code",
   "execution_count": 6,
   "metadata": {},
   "outputs": [],
   "source": [
    "data.set_index('Name', inplace=True)"
   ]
  },
  {
   "cell_type": "code",
   "execution_count": 7,
   "metadata": {},
   "outputs": [],
   "source": [
    "data.to_csv('tabela.csv')"
   ]
  },
  {
   "cell_type": "code",
   "execution_count": 8,
   "metadata": {},
   "outputs": [],
   "source": [
    "data.filter(regex='Name').to_csv(\"name_cols.csv\")"
   ]
  },
  {
   "cell_type": "code",
   "execution_count": 9,
   "metadata": {},
   "outputs": [],
   "source": [
    "data = data[data.columns.drop(list(data.filter(regex='Name')))]\n"
   ]
  },
  {
   "cell_type": "code",
   "execution_count": 10,
   "metadata": {},
   "outputs": [
    {
     "data": {
      "text/plain": [
       "(48, 210)"
      ]
     },
     "execution_count": 10,
     "metadata": {},
     "output_type": "execute_result"
    }
   ],
   "source": [
    "data.shape"
   ]
  },
  {
   "cell_type": "code",
   "execution_count": 11,
   "metadata": {},
   "outputs": [
    {
     "data": {
      "text/html": [
       "<div>\n",
       "<style scoped>\n",
       "    .dataframe tbody tr th:only-of-type {\n",
       "        vertical-align: middle;\n",
       "    }\n",
       "\n",
       "    .dataframe tbody tr th {\n",
       "        vertical-align: top;\n",
       "    }\n",
       "\n",
       "    .dataframe thead th {\n",
       "        text-align: right;\n",
       "    }\n",
       "</style>\n",
       "<table border=\"1\" class=\"dataframe\">\n",
       "  <thead>\n",
       "    <tr style=\"text-align: right;\">\n",
       "      <th></th>\n",
       "      <th>bChargeDischarge</th>\n",
       "      <th>bEnableBlower_Out</th>\n",
       "      <th>bEnablePropane_Out</th>\n",
       "      <th>bEnableWaterPump_Out</th>\n",
       "      <th>bTankHeater</th>\n",
       "      <th>bValve1</th>\n",
       "      <th>bValve2</th>\n",
       "      <th>bValve3</th>\n",
       "      <th>bValve4</th>\n",
       "      <th>rFWaterPumpHPKgS</th>\n",
       "      <th>...</th>\n",
       "      <th>rWaterPumpSpeed</th>\n",
       "      <th>rPWaterPumpHP</th>\n",
       "      <th>rdpExhaustIn1</th>\n",
       "      <th>rdpExhaustIn2</th>\n",
       "      <th>rdpExhaustIn3</th>\n",
       "      <th>rdpExhaustInAvg</th>\n",
       "      <th>rTFlameTemp</th>\n",
       "      <th>rTAmbient</th>\n",
       "      <th>iBlowerSpeed</th>\n",
       "      <th>Unnamed: 418</th>\n",
       "    </tr>\n",
       "    <tr>\n",
       "      <th>Name</th>\n",
       "      <th></th>\n",
       "      <th></th>\n",
       "      <th></th>\n",
       "      <th></th>\n",
       "      <th></th>\n",
       "      <th></th>\n",
       "      <th></th>\n",
       "      <th></th>\n",
       "      <th></th>\n",
       "      <th></th>\n",
       "      <th></th>\n",
       "      <th></th>\n",
       "      <th></th>\n",
       "      <th></th>\n",
       "      <th></th>\n",
       "      <th></th>\n",
       "      <th></th>\n",
       "      <th></th>\n",
       "      <th></th>\n",
       "      <th></th>\n",
       "      <th></th>\n",
       "    </tr>\n",
       "  </thead>\n",
       "  <tbody>\n",
       "    <tr>\n",
       "      <th>NetId</th>\n",
       "      <td>192.168.111.138.1.1</td>\n",
       "      <td>192.168.111.138.1.1</td>\n",
       "      <td>192.168.111.138.1.1</td>\n",
       "      <td>192.168.111.138.1.1</td>\n",
       "      <td>192.168.111.138.1.1</td>\n",
       "      <td>192.168.111.138.1.1</td>\n",
       "      <td>192.168.111.138.1.1</td>\n",
       "      <td>192.168.111.138.1.1</td>\n",
       "      <td>192.168.111.138.1.1</td>\n",
       "      <td>192.168.111.138.1.1</td>\n",
       "      <td>...</td>\n",
       "      <td>192.168.111.138.1.1</td>\n",
       "      <td>192.168.111.138.1.1</td>\n",
       "      <td>192.168.111.138.1.1</td>\n",
       "      <td>192.168.111.138.1.1</td>\n",
       "      <td>192.168.111.138.1.1</td>\n",
       "      <td>192.168.111.138.1.1</td>\n",
       "      <td>192.168.111.138.1.1</td>\n",
       "      <td>192.168.111.138.1.1</td>\n",
       "      <td>192.168.111.138.1.1</td>\n",
       "      <td>NaN</td>\n",
       "    </tr>\n",
       "    <tr>\n",
       "      <th>Port</th>\n",
       "      <td>851</td>\n",
       "      <td>851</td>\n",
       "      <td>851</td>\n",
       "      <td>851</td>\n",
       "      <td>851</td>\n",
       "      <td>851</td>\n",
       "      <td>851</td>\n",
       "      <td>851</td>\n",
       "      <td>851</td>\n",
       "      <td>851</td>\n",
       "      <td>...</td>\n",
       "      <td>851</td>\n",
       "      <td>851</td>\n",
       "      <td>851</td>\n",
       "      <td>851</td>\n",
       "      <td>851</td>\n",
       "      <td>851</td>\n",
       "      <td>851</td>\n",
       "      <td>851</td>\n",
       "      <td>851</td>\n",
       "      <td>NaN</td>\n",
       "    </tr>\n",
       "    <tr>\n",
       "      <th>SampleTime[ms]</th>\n",
       "      <td>1000</td>\n",
       "      <td>1000</td>\n",
       "      <td>1000</td>\n",
       "      <td>1000</td>\n",
       "      <td>1000</td>\n",
       "      <td>1000</td>\n",
       "      <td>1000</td>\n",
       "      <td>1000</td>\n",
       "      <td>1000</td>\n",
       "      <td>1000</td>\n",
       "      <td>...</td>\n",
       "      <td>1000</td>\n",
       "      <td>1000</td>\n",
       "      <td>1000</td>\n",
       "      <td>1000</td>\n",
       "      <td>1000</td>\n",
       "      <td>1000</td>\n",
       "      <td>1000</td>\n",
       "      <td>1000</td>\n",
       "      <td>1000</td>\n",
       "      <td>NaN</td>\n",
       "    </tr>\n",
       "    <tr>\n",
       "      <th>SymbolBased</th>\n",
       "      <td>True</td>\n",
       "      <td>True</td>\n",
       "      <td>True</td>\n",
       "      <td>True</td>\n",
       "      <td>True</td>\n",
       "      <td>True</td>\n",
       "      <td>True</td>\n",
       "      <td>True</td>\n",
       "      <td>True</td>\n",
       "      <td>True</td>\n",
       "      <td>...</td>\n",
       "      <td>True</td>\n",
       "      <td>True</td>\n",
       "      <td>True</td>\n",
       "      <td>True</td>\n",
       "      <td>True</td>\n",
       "      <td>True</td>\n",
       "      <td>True</td>\n",
       "      <td>True</td>\n",
       "      <td>True</td>\n",
       "      <td>NaN</td>\n",
       "    </tr>\n",
       "    <tr>\n",
       "      <th>SymbolName</th>\n",
       "      <td>MAIN.bChargeDischarge</td>\n",
       "      <td>MAIN.bEnableBlower_Out</td>\n",
       "      <td>MAIN.bEnablePropane_Out</td>\n",
       "      <td>MAIN.bEnableWaterPump_Out</td>\n",
       "      <td>MAIN.bTankHeater</td>\n",
       "      <td>MAIN.bValve1</td>\n",
       "      <td>MAIN.bValve2</td>\n",
       "      <td>MAIN.bValve3</td>\n",
       "      <td>MAIN.bValve4</td>\n",
       "      <td>MAIN.rFWaterPumpHPKgS</td>\n",
       "      <td>...</td>\n",
       "      <td>MAIN.rWaterPumpSpeed</td>\n",
       "      <td>MAIN.rPWaterPumpHP</td>\n",
       "      <td>MAIN.rdpExhaustIn1</td>\n",
       "      <td>MAIN.rdpExhaustIn2</td>\n",
       "      <td>MAIN.rdpExhaustIn3</td>\n",
       "      <td>MAIN.rdpExhaustInAvg</td>\n",
       "      <td>MAIN.rTFlameTemp</td>\n",
       "      <td>MAIN.rTAmbient</td>\n",
       "      <td>MAIN.iBlowerSpeed</td>\n",
       "      <td>NaN</td>\n",
       "    </tr>\n",
       "  </tbody>\n",
       "</table>\n",
       "<p>5 rows × 210 columns</p>\n",
       "</div>"
      ],
      "text/plain": [
       "                     bChargeDischarge       bEnableBlower_Out  \\\n",
       "Name                                                            \n",
       "NetId             192.168.111.138.1.1     192.168.111.138.1.1   \n",
       "Port                              851                     851   \n",
       "SampleTime[ms]                   1000                    1000   \n",
       "SymbolBased                      True                    True   \n",
       "SymbolName      MAIN.bChargeDischarge  MAIN.bEnableBlower_Out   \n",
       "\n",
       "                     bEnablePropane_Out       bEnableWaterPump_Out  \\\n",
       "Name                                                                 \n",
       "NetId               192.168.111.138.1.1        192.168.111.138.1.1   \n",
       "Port                                851                        851   \n",
       "SampleTime[ms]                     1000                       1000   \n",
       "SymbolBased                        True                       True   \n",
       "SymbolName      MAIN.bEnablePropane_Out  MAIN.bEnableWaterPump_Out   \n",
       "\n",
       "                        bTankHeater              bValve1              bValve2  \\\n",
       "Name                                                                            \n",
       "NetId           192.168.111.138.1.1  192.168.111.138.1.1  192.168.111.138.1.1   \n",
       "Port                            851                  851                  851   \n",
       "SampleTime[ms]                 1000                 1000                 1000   \n",
       "SymbolBased                    True                 True                 True   \n",
       "SymbolName         MAIN.bTankHeater         MAIN.bValve1         MAIN.bValve2   \n",
       "\n",
       "                            bValve3              bValve4  \\\n",
       "Name                                                       \n",
       "NetId           192.168.111.138.1.1  192.168.111.138.1.1   \n",
       "Port                            851                  851   \n",
       "SampleTime[ms]                 1000                 1000   \n",
       "SymbolBased                    True                 True   \n",
       "SymbolName             MAIN.bValve3         MAIN.bValve4   \n",
       "\n",
       "                     rFWaterPumpHPKgS  ...       rWaterPumpSpeed  \\\n",
       "Name                                   ...                         \n",
       "NetId             192.168.111.138.1.1  ...   192.168.111.138.1.1   \n",
       "Port                              851  ...                   851   \n",
       "SampleTime[ms]                   1000  ...                  1000   \n",
       "SymbolBased                      True  ...                  True   \n",
       "SymbolName      MAIN.rFWaterPumpHPKgS  ...  MAIN.rWaterPumpSpeed   \n",
       "\n",
       "                      rPWaterPumpHP        rdpExhaustIn1        rdpExhaustIn2  \\\n",
       "Name                                                                            \n",
       "NetId           192.168.111.138.1.1  192.168.111.138.1.1  192.168.111.138.1.1   \n",
       "Port                            851                  851                  851   \n",
       "SampleTime[ms]                 1000                 1000                 1000   \n",
       "SymbolBased                    True                 True                 True   \n",
       "SymbolName       MAIN.rPWaterPumpHP   MAIN.rdpExhaustIn1   MAIN.rdpExhaustIn2   \n",
       "\n",
       "                      rdpExhaustIn3       rdpExhaustInAvg  \\\n",
       "Name                                                        \n",
       "NetId           192.168.111.138.1.1   192.168.111.138.1.1   \n",
       "Port                            851                   851   \n",
       "SampleTime[ms]                 1000                  1000   \n",
       "SymbolBased                    True                  True   \n",
       "SymbolName       MAIN.rdpExhaustIn3  MAIN.rdpExhaustInAvg   \n",
       "\n",
       "                        rTFlameTemp            rTAmbient         iBlowerSpeed  \\\n",
       "Name                                                                            \n",
       "NetId           192.168.111.138.1.1  192.168.111.138.1.1  192.168.111.138.1.1   \n",
       "Port                            851                  851                  851   \n",
       "SampleTime[ms]                 1000                 1000                 1000   \n",
       "SymbolBased                    True                 True                 True   \n",
       "SymbolName         MAIN.rTFlameTemp       MAIN.rTAmbient    MAIN.iBlowerSpeed   \n",
       "\n",
       "               Unnamed: 418  \n",
       "Name                         \n",
       "NetId                   NaN  \n",
       "Port                    NaN  \n",
       "SampleTime[ms]          NaN  \n",
       "SymbolBased             NaN  \n",
       "SymbolName              NaN  \n",
       "\n",
       "[5 rows x 210 columns]"
      ]
     },
     "execution_count": 11,
     "metadata": {},
     "output_type": "execute_result"
    }
   ],
   "source": [
    "data.head()"
   ]
  },
  {
   "cell_type": "code",
   "execution_count": 12,
   "metadata": {},
   "outputs": [
    {
     "name": "stdout",
     "output_type": "stream",
     "text": [
      "<class 'pandas.core.frame.DataFrame'>\n",
      "Index: 48 entries, NetId to 28000\n",
      "Columns: 210 entries, bChargeDischarge to Unnamed: 418\n",
      "dtypes: float64(1), object(209)\n",
      "memory usage: 565.8 KB\n"
     ]
    }
   ],
   "source": [
    "data.info(memory_usage='deep')"
   ]
  },
  {
   "cell_type": "code",
   "execution_count": 13,
   "metadata": {},
   "outputs": [],
   "source": [
    "def retrieve_types_from_cols(data: pd.DataFrame)->dict:\n",
    "    result = {}\n",
    "    for col_name, content in data.items():\n",
    "        if(content['Data-Type']=='Data-Type'):\n",
    "            continue\n",
    "        elif(content['Data-Type']=='INT16'):\n",
    "            result[col_name] = 'int16'\n",
    "        elif(content['Data-Type']=='REAL32'):\n",
    "            result[col_name] = 'float32'\n",
    "        elif(content['Data-Type']=='REAL64'):\n",
    "            result[col_name] = 'float64'\n",
    "        elif(content['Data-Type']=='BIT'):\n",
    "            result[col_name] = 'bool'\n",
    "        else:\n",
    "            print(f\"Type out of scope: {content['Data-Type']}\")\n",
    "    return result\n",
    "        "
   ]
  },
  {
   "cell_type": "code",
   "execution_count": 14,
   "metadata": {},
   "outputs": [
    {
     "name": "stdout",
     "output_type": "stream",
     "text": [
      "Type out of scope: nan\n"
     ]
    }
   ],
   "source": [
    "data_types = retrieve_types_from_cols(data)"
   ]
  },
  {
   "cell_type": "markdown",
   "metadata": {},
   "source": []
  },
  {
   "cell_type": "code",
   "execution_count": 15,
   "metadata": {},
   "outputs": [],
   "source": [
    "def apply_types(df: pd.DataFrame, types: dict, start_index: int = 0, end_index: int = None)->pd.DataFrame:\n",
    "    return pd.concat([df.iloc[:start_index], df.iloc[start_index:].astype(types)])"
   ]
  },
  {
   "cell_type": "code",
   "execution_count": 16,
   "metadata": {},
   "outputs": [
    {
     "name": "stdout",
     "output_type": "stream",
     "text": [
      "<class 'pandas.core.frame.DataFrame'>\n",
      "Index: 48 entries, NetId to 28000\n",
      "Columns: 210 entries, bChargeDischarge to Unnamed: 418\n",
      "dtypes: float64(1), object(209)\n",
      "memory usage: 566.9 KB\n"
     ]
    }
   ],
   "source": [
    "data.info(memory_usage='deep')"
   ]
  },
  {
   "cell_type": "code",
   "execution_count": 17,
   "metadata": {},
   "outputs": [],
   "source": [
    "n = apply_types(data, data_types, 19)"
   ]
  },
  {
   "cell_type": "code",
   "execution_count": 18,
   "metadata": {},
   "outputs": [
    {
     "name": "stdout",
     "output_type": "stream",
     "text": [
      "<class 'pandas.core.frame.DataFrame'>\n",
      "Index: 48 entries, NetId to 28000\n",
      "Columns: 210 entries, bChargeDischarge to Unnamed: 418\n",
      "dtypes: float64(1), object(209)\n",
      "memory usage: 395.0 KB\n"
     ]
    }
   ],
   "source": [
    "n.info(memory_usage='deep')"
   ]
  },
  {
   "cell_type": "markdown",
   "metadata": {
    "tags": []
   },
   "source": [
    "Checking if applying the dtypes will affect memory usage"
   ]
  },
  {
   "cell_type": "code",
   "execution_count": 19,
   "metadata": {},
   "outputs": [
    {
     "name": "stdout",
     "output_type": "stream",
     "text": [
      "<class 'pandas.core.frame.DataFrame'>\n",
      "Index: 48 entries, NetId to 28000\n",
      "Columns: 210 entries, bChargeDischarge to Unnamed: 418\n",
      "dtypes: float64(1), object(209)\n",
      "memory usage: 566.9 KB\n"
     ]
    }
   ],
   "source": [
    "data.info(memory_usage='deep')"
   ]
  },
  {
   "cell_type": "code",
   "execution_count": 20,
   "metadata": {},
   "outputs": [
    {
     "name": "stdout",
     "output_type": "stream",
     "text": [
      "<class 'pandas.core.frame.DataFrame'>\n",
      "Index: 19 entries, NetId to BitMask\n",
      "Columns: 210 entries, bChargeDischarge to Unnamed: 418\n",
      "dtypes: float64(1), object(209)\n",
      "memory usage: 202.5 KB\n"
     ]
    }
   ],
   "source": [
    "data.iloc[0:19].info(memory_usage='deep')"
   ]
  },
  {
   "cell_type": "code",
   "execution_count": 21,
   "metadata": {},
   "outputs": [
    {
     "name": "stdout",
     "output_type": "stream",
     "text": [
      "<class 'pandas.core.frame.DataFrame'>\n",
      "Index: 29 entries, 0 to 28000\n",
      "Columns: 210 entries, bChargeDischarge to Unnamed: 418\n",
      "dtypes: float64(1), object(209)\n",
      "memory usage: 363.3 KB\n"
     ]
    }
   ],
   "source": [
    "data.iloc[19:].info(memory_usage='deep')"
   ]
  },
  {
   "cell_type": "markdown",
   "metadata": {
    "tags": []
   },
   "source": [
    "Dividing the data into data frames into which we can apply proper types"
   ]
  },
  {
   "cell_type": "code",
   "execution_count": 22,
   "metadata": {},
   "outputs": [],
   "source": [
    "# data_with_objects = data.iloc[0:19]"
   ]
  },
  {
   "cell_type": "code",
   "execution_count": 23,
   "metadata": {},
   "outputs": [],
   "source": [
    "# data_with_types = data.iloc[19:]"
   ]
  },
  {
   "cell_type": "code",
   "execution_count": 24,
   "metadata": {},
   "outputs": [],
   "source": [
    "def split_dataframe(df: pd.DataFrame, index: int)->pd.DataFrame:\n",
    "    return df.iloc[:index], df.iloc[index:]"
   ]
  },
  {
   "cell_type": "code",
   "execution_count": 25,
   "metadata": {},
   "outputs": [],
   "source": [
    "data_with_objects, data_with_types = split_dataframe(data, 19) "
   ]
  },
  {
   "cell_type": "code",
   "execution_count": 26,
   "metadata": {},
   "outputs": [
    {
     "name": "stdout",
     "output_type": "stream",
     "text": [
      "<class 'pandas.core.frame.DataFrame'>\n",
      "Index: 19 entries, NetId to BitMask\n",
      "Columns: 210 entries, bChargeDischarge to Unnamed: 418\n",
      "dtypes: float64(1), object(209)\n",
      "memory usage: 202.5 KB\n"
     ]
    }
   ],
   "source": [
    "data_with_objects.info(memory_usage='deep')"
   ]
  },
  {
   "cell_type": "code",
   "execution_count": 27,
   "metadata": {},
   "outputs": [
    {
     "name": "stdout",
     "output_type": "stream",
     "text": [
      "<class 'pandas.core.frame.DataFrame'>\n",
      "Index: 19 entries, NetId to BitMask\n",
      "Columns: 210 entries, bChargeDischarge to Unnamed: 418\n",
      "dtypes: object(210)\n",
      "memory usage: 248.8 KB\n"
     ]
    }
   ],
   "source": [
    "data_with_objects.astype('str').info(memory_usage='deep')"
   ]
  },
  {
   "cell_type": "code",
   "execution_count": 28,
   "metadata": {},
   "outputs": [
    {
     "name": "stdout",
     "output_type": "stream",
     "text": [
      "<class 'pandas.core.frame.DataFrame'>\n",
      "Index: 29 entries, 0 to 28000\n",
      "Columns: 210 entries, bChargeDischarge to Unnamed: 418\n",
      "dtypes: float64(1), object(209)\n",
      "memory usage: 363.3 KB\n"
     ]
    }
   ],
   "source": [
    "data_with_types.info(memory_usage='deep')"
   ]
  },
  {
   "cell_type": "code",
   "execution_count": 29,
   "metadata": {},
   "outputs": [
    {
     "name": "stdout",
     "output_type": "stream",
     "text": [
      "<class 'pandas.core.frame.DataFrame'>\n",
      "Index: 29 entries, 0 to 28000\n",
      "Columns: 210 entries, bChargeDischarge to Unnamed: 418\n",
      "dtypes: bool(9), float32(198), float64(2), int16(1)\n",
      "memory usage: 24.9 KB\n"
     ]
    }
   ],
   "source": [
    "data_with_types.astype(data_types).info(memory_usage='deep')"
   ]
  },
  {
   "cell_type": "code",
   "execution_count": 30,
   "metadata": {},
   "outputs": [
    {
     "name": "stdout",
     "output_type": "stream",
     "text": [
      "<class 'pandas.core.frame.DataFrame'>\n",
      "Index: 48 entries, NetId to 28000\n",
      "Columns: 210 entries, bChargeDischarge to Unnamed: 418\n",
      "dtypes: float64(1), object(209)\n",
      "memory usage: 395.0 KB\n"
     ]
    },
    {
     "name": "stderr",
     "output_type": "stream",
     "text": [
      "C:\\Users\\mrluk\\AppData\\Local\\Temp/ipykernel_11808/990817361.py:1: FutureWarning: The frame.append method is deprecated and will be removed from pandas in a future version. Use pandas.concat instead.\n",
      "  data_with_objects.append(data_with_types.astype(data_types)).info(memory_usage='deep')\n"
     ]
    }
   ],
   "source": [
    "data_with_objects.append(data_with_types.astype(data_types)).info(memory_usage='deep')"
   ]
  },
  {
   "cell_type": "code",
   "execution_count": 31,
   "metadata": {},
   "outputs": [],
   "source": [
    "concated = pd.concat([data_with_objects, data_with_types.astype(data_types)])"
   ]
  },
  {
   "cell_type": "code",
   "execution_count": 32,
   "metadata": {},
   "outputs": [
    {
     "name": "stdout",
     "output_type": "stream",
     "text": [
      "<class 'pandas.core.frame.DataFrame'>\n",
      "Index: 48 entries, NetId to 28000\n",
      "Columns: 210 entries, bChargeDischarge to Unnamed: 418\n",
      "dtypes: float64(1), object(209)\n",
      "memory usage: 395.0 KB\n"
     ]
    }
   ],
   "source": [
    "concated.info(memory_usage='deep')"
   ]
  },
  {
   "cell_type": "markdown",
   "metadata": {},
   "source": [
    "Extract date and time"
   ]
  },
  {
   "cell_type": "code",
   "execution_count": 33,
   "metadata": {},
   "outputs": [],
   "source": [
    "def read_date_time(path: str):\n",
    "    n_lines = 4\n",
    "    result = {}\n",
    "    with open(path,'r') as f:\n",
    "        for _ in range(n_lines):\n",
    "            line = f.readline()\n",
    "            if('start' in line.lower()):\n",
    "                date_time = datetime.strptime(' '.join(line.split('\\t')[-2:])[:-4], '%A, %b %d, %Y %H:%M:%S')\n",
    "                result['start_date'] = date_time.date()\n",
    "                result['start_time'] = date_time.time()\n",
    "            elif('end' in line.lower()):\n",
    "                date_time = datetime.strptime(' '.join(line.split('\\t')[-2:])[:-4], '%A, %b %d, %Y %H:%M:%S')\n",
    "                result['end_date'] = date_time.date()\n",
    "                result['end_time'] = date_time.time()\n",
    "    return result"
   ]
  },
  {
   "cell_type": "code",
   "execution_count": 34,
   "metadata": {},
   "outputs": [],
   "source": [
    "def read_date_time(path: str):\n",
    "    n_lines = 4\n",
    "    result = {}\n",
    "    with open(path,'r') as f:\n",
    "        for _ in range(n_lines):\n",
    "            line = f.readline()\n",
    "            if('start' in line.lower()):\n",
    "                result['start_date'] = line.split('\\t')[-2]\n",
    "                result['start_time'] = line.split('\\t')[-1][:-4]\n",
    "            elif('end' in line.lower()):\n",
    "                result['end_date'] = line.split('\\t')[-2]\n",
    "                result['end_time'] = line.split('\\t')[-1][:-4]\n",
    "    return result"
   ]
  },
  {
   "cell_type": "code",
   "execution_count": 35,
   "metadata": {},
   "outputs": [
    {
     "name": "stdout",
     "output_type": "stream",
     "text": [
      "{'start_date': 'Thursday, May 13, 2021', 'start_time': '7:34:39', 'end_date': 'Thursday, May 13, 2021', 'end_time': '8:34:39'}\n"
     ]
    }
   ],
   "source": [
    "print(read_date_time(PATH))"
   ]
  },
  {
   "cell_type": "markdown",
   "metadata": {},
   "source": [
    "Preparing the json response"
   ]
  },
  {
   "cell_type": "code",
   "execution_count": 36,
   "metadata": {},
   "outputs": [],
   "source": [
    "data_with_types = data_with_types.astype(data_types)"
   ]
  },
  {
   "cell_type": "code",
   "execution_count": 37,
   "metadata": {},
   "outputs": [
    {
     "name": "stdout",
     "output_type": "stream",
     "text": [
      "<class 'pandas.core.frame.DataFrame'>\n",
      "Index: 29 entries, 0 to 28000\n",
      "Columns: 210 entries, bChargeDischarge to Unnamed: 418\n",
      "dtypes: bool(9), float32(198), float64(2), int16(1)\n",
      "memory usage: 23.4+ KB\n"
     ]
    }
   ],
   "source": [
    "data_with_types.info()"
   ]
  },
  {
   "cell_type": "code",
   "execution_count": 38,
   "metadata": {},
   "outputs": [],
   "source": [
    "def prepare_json(df: pd.DataFrame, date_time: dict, path: str):\n",
    "    result = {}\n",
    "    result['path'] = path\n",
    "    result.update(date_time.copy())\n",
    "    for key, content in df.items():\n",
    "        result[key] = content.mean()\n",
    "    return result"
   ]
  },
  {
   "cell_type": "code",
   "execution_count": 39,
   "metadata": {},
   "outputs": [
    {
     "data": {
      "text/plain": [
       "{'path': 'C:/Users/mrluk/Desktop/Verii/V_task/data/test_dataset_1.txt',\n",
       " 'start_date': 'Thursday, May 13, 2021',\n",
       " 'start_time': '7:34:39',\n",
       " 'end_date': 'Thursday, May 13, 2021',\n",
       " 'end_time': '8:34:39',\n",
       " 'bChargeDischarge': 1.0,\n",
       " 'bEnableBlower_Out': 1.0,\n",
       " 'bEnablePropane_Out': 1.0,\n",
       " 'bEnableWaterPump_Out': 1.0,\n",
       " 'bTankHeater': 1.0,\n",
       " 'bValve1': 1.0,\n",
       " 'bValve2': 1.0,\n",
       " 'bValve3': 1.0,\n",
       " 'bValve4': 1.0,\n",
       " 'rFWaterPumpHPKgS': 0.0,\n",
       " 'rPCondenserIn': 38.5533,\n",
       " 'rPWaterPumpLP': -14.699999809265137,\n",
       " 'rPWaterReturn': 3.1981294,\n",
       " 'rTBlk1Seg1C1': 0.0,\n",
       " 'rTBlk1Seg1C2': 478.29306,\n",
       " 'rTBlk1Seg1C3': 10.4,\n",
       " 'rTBlk1Seg1C4': 232.41379,\n",
       " 'rTBlk1Seg1C5': 232.33447,\n",
       " 'rTBlk1Seg1C6': 0.0,\n",
       " 'rTBlk1Seg1E1': 0.0,\n",
       " 'rTBlk1Seg1E2': 0.0,\n",
       " 'rTBlk1Seg1T1': 1372.0,\n",
       " 'rTBlk1Seg1T2': 1372.0,\n",
       " 'rTBlk1Seg1T3': 401.8172,\n",
       " 'rTBlk1Seg1T4': 1372.0,\n",
       " 'rTBlk1Seg1T5': 1372.0,\n",
       " 'rTBlk1Seg1T6': 232.93105,\n",
       " 'rTBlk1Seg1T7': 228.8414,\n",
       " 'rTBlk1Seg1T8': 0.0,\n",
       " 'rTBlk1Seg2T1': 0.0,\n",
       " 'rTBlk1Seg2T2': 1372.0,\n",
       " 'rTBlk1Seg2T3': 1372.0,\n",
       " 'rTBlk1Seg2T4': 310.90002,\n",
       " 'rTBlk1Seg2T5': 309.58963,\n",
       " 'rTBlk1Seg2T6': 308.7,\n",
       " 'rTBlk1Seg2T7': 311.06894,\n",
       " 'rTBlk1Seg2T8': 312.67935,\n",
       " 'rTBlk1Seg3C1': 1372.0,\n",
       " 'rTBlk1Seg3C2': 313.9345,\n",
       " 'rTBlk1Seg3C3': 310.90002,\n",
       " 'rTBlk1Seg3C4': 312.90002,\n",
       " 'rTBlk1Seg3C5': 313.78616,\n",
       " 'rTBlk1Seg3C6': 309.67587,\n",
       " 'rTBlk1Seg3T1': 303.90344,\n",
       " 'rTBlk1Seg3T2': 312.71384,\n",
       " 'rTBlk1Seg3T3': 313.90002,\n",
       " 'rTBlk1Seg3T4': 313.45865,\n",
       " 'rTBlk1Seg3T5': 161.27586,\n",
       " 'rTBlk1Seg3T6': 312.59998,\n",
       " 'rTBlk1Seg3T7': 313.88968,\n",
       " 'rTBlk1Seg3T8': 313.2,\n",
       " 'rTBlk1Seg4T1': 303.9276,\n",
       " 'rTBlk1Seg4T2': 302.88965,\n",
       " 'rTBlk1Seg4T3': 304.05173,\n",
       " 'rTBlk1Seg4T4': 302.9793,\n",
       " 'rTBlk1Seg4T5': 303.90002,\n",
       " 'rTBlk1Seg4T6': 302.3034,\n",
       " 'rTBlk1Seg4T7': 304.06894,\n",
       " 'rTBlk1Seg4T8': 302.6,\n",
       " 'rTBlk1Seg5C1': 0.0,\n",
       " 'rTBlk1Seg5C2': 283.5862,\n",
       " 'rTBlk1Seg5C3': 282.44482,\n",
       " 'rTBlk1Seg5C4': 282.9069,\n",
       " 'rTBlk1Seg5C5': 283.1,\n",
       " 'rTBlk1Seg5C6': 0.0,\n",
       " 'rTBlk1Seg5T1': 282.99655,\n",
       " 'rTBlk1Seg5T2': 283.44138,\n",
       " 'rTBlk1Seg5T3': 284.49655,\n",
       " 'rTBlk1Seg5T4': 284.1,\n",
       " 'rTBlk1Seg5T5': 0.0,\n",
       " 'rTBlk1Seg5T6': 285.1,\n",
       " 'rTBlk1Seg5T7': 285.1,\n",
       " 'rTBlk1Seg5T8': 285.17587,\n",
       " 'rTBlk1Seg6T1': 77.8,\n",
       " 'rTBlk1Seg6T2': 12.79655,\n",
       " 'rTBlk1Seg6T3': 14.144829,\n",
       " 'rTBlk1Seg6T4': 93.60001,\n",
       " 'rTBlk1Seg6T5': 232.15518,\n",
       " 'rTBlk1Seg6T6': 232.18965,\n",
       " 'rTBlk1Seg6T7': 235.83102,\n",
       " 'rTBlk1Seg6T8': 120.74484,\n",
       " 'rTBlk1Seg7C1': 76.88276,\n",
       " 'rTBlk1Seg7C2': 75.26897,\n",
       " 'rTBlk1Seg7C3': 74.03449,\n",
       " 'rTBlk1Seg7C4': 76.74827,\n",
       " 'rTBlk1Seg7C5': 74.079315,\n",
       " 'rTBlk1Seg7C6': 73.579315,\n",
       " 'rTBlk1Seg7E1': 78.56896,\n",
       " 'rTBlk1Seg7E2': 77.46897,\n",
       " 'rTBlk1Seg7T1': 77.962074,\n",
       " 'rTBlk1Seg7T2': 77.137924,\n",
       " 'rTBlk1Seg7T3': 70.50344,\n",
       " 'rTBlk1Seg7T4': 77.50001,\n",
       " 'rTBlk1Seg7T5': 0.0,\n",
       " 'rTBlk1Seg7T6': 1372.0,\n",
       " 'rTBlk1Seg7T7': 73.389656,\n",
       " 'rTBlk1Seg7T8': 77.931046,\n",
       " 'rTBoilerOut': 0.0,\n",
       " 'rTBurnerTemp1': 452.36893,\n",
       " 'rTBurnerTemp2': 478.29306,\n",
       " 'rTBurnerTemp3': 401.8172,\n",
       " 'rTCondenserIn': 0.0,\n",
       " 'rTExhaust': 77.8,\n",
       " 'rTTESBlk1Seg1C1': 229.71725,\n",
       " 'rTTESBlk1Seg1C2': 217.89996,\n",
       " 'rTTESBlk1Seg1C3': 181.12761,\n",
       " 'rTTESBlk1Seg1T1': 231.0,\n",
       " 'rTTESBlk1Seg1T2': 218.0,\n",
       " 'rTTESBlk1Seg1T3': 187.79997,\n",
       " 'rTTESBlk1Seg2C1': 217.07933,\n",
       " 'rTTESBlk1Seg2C2': 158.29999,\n",
       " 'rTTESBlk1Seg2C3': 174.0069,\n",
       " 'rTTESBlk1Seg2T1': 221.27586,\n",
       " 'rTTESBlk1Seg2T2': 209.39996,\n",
       " 'rTTESBlk1Seg2T3': 180.09657,\n",
       " 'rTTESBlk1Seg3C1': 197.89996,\n",
       " 'rTTESBlk1Seg3C2': 178.39996,\n",
       " 'rTTESBlk1Seg3C3': 140.48276,\n",
       " 'rTTESBlk1Seg3T1': 198.29997,\n",
       " 'rTTESBlk1Seg3T2': 180.96896,\n",
       " 'rTTESBlk1Seg3T3': 152.63795,\n",
       " 'rTTESBlk1Seg4C1': 166.30687,\n",
       " 'rTTESBlk1Seg4C2': 156.29999,\n",
       " 'rTTESBlk1Seg4C3': 126.096565,\n",
       " 'rTTESBlk1Seg4T1': 0.0,\n",
       " 'rTTESBlk1Seg4T2': 156.93446,\n",
       " 'rTTESBlk1Seg4T3': 134.18274,\n",
       " 'rTTESBlk1Seg5C1': 142.4,\n",
       " 'rTTESBlk1Seg5C2': 1372.0,\n",
       " 'rTTESBlk1Seg5C3': 99.63793,\n",
       " 'rTTESBlk1Seg5T1': 143.8,\n",
       " 'rTTESBlk1Seg5T2': 125.89999,\n",
       " 'rTTESBlk1Seg5T3': 106.39999,\n",
       " 'rTTESBlk1Seg6C1': 107.39999,\n",
       " 'rTTESBlk1Seg6C2': 95.60001,\n",
       " 'rTTESBlk1Seg6C3': 84.39309,\n",
       " 'rTTESBlk1Seg6T1': 107.08623,\n",
       " 'rTTESBlk1Seg6T2': 99.317245,\n",
       " 'rTTESBlk1Seg6T3': 87.89999,\n",
       " 'rTTESBlk1Seg7C1': 88.096565,\n",
       " 'rTTESBlk1Seg7C2': 77.8,\n",
       " 'rTTESBlk1Seg7C3': 62.924145,\n",
       " 'rTTESBlk1Seg7T1': 89.61379,\n",
       " 'rTTESBlk1Seg7T2': 78.43448,\n",
       " 'rTTESBlk1Seg7T3': 67.10344,\n",
       " 'rTTESBlk2Seg1C1': 248.38963,\n",
       " 'rTTESBlk2Seg1C2': 263.62073,\n",
       " 'rTTESBlk2Seg1C3': 0.0,\n",
       " 'rTTESBlk2Seg1T1': 249.39996,\n",
       " 'rTTESBlk2Seg1T2': 264.29996,\n",
       " 'rTTESBlk2Seg1T3': 0.0,\n",
       " 'rTTESBlk2Seg2C1': 237.4862,\n",
       " 'rTTESBlk2Seg2C2': 250.99655,\n",
       " 'rTTESBlk2Seg2C3': 0.0,\n",
       " 'rTTESBlk2Seg2T1': 236.42413,\n",
       " 'rTTESBlk2Seg2T2': 251.39996,\n",
       " 'rTTESBlk2Seg2T3': 0.0,\n",
       " 'rTTESBlk2Seg3C1': 215.67935,\n",
       " 'rTTESBlk2Seg3C2': 226.39996,\n",
       " 'rTTESBlk2Seg3C3': 0.0,\n",
       " 'rTTESBlk2Seg3T1': 215.39996,\n",
       " 'rTTESBlk2Seg3T2': 224.61382,\n",
       " 'rTTESBlk2Seg3T3': 0.0,\n",
       " 'rTTESBlk2Seg4C1': 187.10349,\n",
       " 'rTTESBlk2Seg4C2': 196.94482,\n",
       " 'rTTESBlk2Seg4C3': 0.0,\n",
       " 'rTTESBlk2Seg4T1': 186.76552,\n",
       " 'rTTESBlk2Seg4T2': 195.13106,\n",
       " 'rTTESBlk2Seg4T3': 0.0,\n",
       " 'rTTESBlk2Seg5C1': 163.29999,\n",
       " 'rTTESBlk2Seg5C2': 167.9,\n",
       " 'rTTESBlk2Seg5C3': 0.0,\n",
       " 'rTTESBlk2Seg5T1': 162.9931,\n",
       " 'rTTESBlk2Seg5T2': 168.4,\n",
       " 'rTTESBlk2Seg5T3': 0.0,\n",
       " 'rTTESBlk2Seg6C1': 112.40688,\n",
       " 'rTTESBlk2Seg6C2': 0.0,\n",
       " 'rTTESBlk2Seg6C3': 0.0,\n",
       " 'rTTESBlk2Seg6T1': 0.0,\n",
       " 'rTTESBlk2Seg6T2': 122.30002,\n",
       " 'rTTESBlk2Seg6T3': 0.0,\n",
       " 'rTTESBlk2Seg7C1': 89.80002,\n",
       " 'rTTESBlk2Seg7C2': 93.60001,\n",
       " 'rTTESBlk2Seg7C3': 0.0,\n",
       " 'rTTESBlk2Seg7T1': 59.441383,\n",
       " 'rTTESBlk2Seg7T2': 93.19998,\n",
       " 'rTTESBlk2Seg7T3': 0.0,\n",
       " 'rTTESBlock1BottomManifoldIn': 93.65172,\n",
       " 'rTTESBlock1BottomManifoldOut': 12.79655,\n",
       " 'rTTESBlock1TopManifoldIn': 0.0,\n",
       " 'rTTESBlock1TopManifoldOut': 14.144829,\n",
       " 'rTTESBlock2BottomManifoldIn': 103.41381,\n",
       " 'rTTESBlock2BottomManifoldOut': 69.92414,\n",
       " 'rTTESBlock2TopManifoldIn': 145.4,\n",
       " 'rTTESBlock2TopManifoldOut': 35.4,\n",
       " 'rTTESIn': 93.69653,\n",
       " 'rTWaterPumpHP': 12.013794,\n",
       " 'rTWaterPumpLP': 9.4,\n",
       " 'rTWaterReturn': 5.800001,\n",
       " 'rTWaterTank': 11.399998,\n",
       " 'rWaterPumpSpeed': 350.0,\n",
       " 'rPWaterPumpHP': 2.9150434,\n",
       " 'rdpExhaustIn1': 0.00655,\n",
       " 'rdpExhaustIn2': 0.02231686,\n",
       " 'rdpExhaustIn3': 0.07237764,\n",
       " 'rdpExhaustInAvg': 0.03374816,\n",
       " 'rTFlameTemp': 675.50696,\n",
       " 'rTAmbient': 10.027587,\n",
       " 'iBlowerSpeed': 1200.0,\n",
       " 'Unnamed: 418': nan}"
      ]
     },
     "execution_count": 39,
     "metadata": {},
     "output_type": "execute_result"
    }
   ],
   "source": [
    "prepare_json(data_with_types, read_date_time(PATH), PATH)"
   ]
  },
  {
   "cell_type": "code",
   "execution_count": null,
   "metadata": {},
   "outputs": [],
   "source": []
  }
 ],
 "metadata": {
  "kernelspec": {
   "display_name": "Python 3.10.1 64-bit",
   "language": "python",
   "name": "python3"
  },
  "language_info": {
   "codemirror_mode": {
    "name": "ipython",
    "version": 3
   },
   "file_extension": ".py",
   "mimetype": "text/x-python",
   "name": "python",
   "nbconvert_exporter": "python",
   "pygments_lexer": "ipython3",
   "version": "3.10.1"
  },
  "orig_nbformat": 4,
  "vscode": {
   "interpreter": {
    "hash": "865d8b2eb28e274047ba64063dfb6a2aabf0dfec4905d304d7a76618dae6fdd4"
   }
  }
 },
 "nbformat": 4,
 "nbformat_minor": 2
}
